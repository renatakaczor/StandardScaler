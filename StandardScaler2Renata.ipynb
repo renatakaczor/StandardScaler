{
 "cells": [
  {
   "cell_type": "markdown",
   "metadata": {},
   "source": [
    "# STANDARD SCALER"
   ]
  },
  {
   "cell_type": "raw",
   "metadata": {},
   "source": [
    "Créer une class StandardScaler avec comme méthode fit, transform, fit_transform et en attribut un dicitonnaire params_ qui contient la moyenne et l'écart_type de vos données. Les données en entrées sont uniquement de array numpy (pas des dataframes)\n",
    "me dire que vous avez terminé avant de faire le bonus.\n",
    "en bonus :\n",
    "- mettre une erreur si on essaye de transform sans avoir de fit\n",
    "- permettre au code de fonctionner, peut importe si l'entrée est une numpy array ou une dataframe"
   ]
  },
  {
   "cell_type": "code",
   "execution_count": 9,
   "metadata": {},
   "outputs": [],
   "source": [
    "import numpy as np\n",
    "\n",
    "class StandardScaler():\n",
    "    def __init__(self):\n",
    "        self.params_ = {\"mean\":None, \"std\":None}\n",
    "\n",
    "    def fit(self, X):\n",
    "        self.params_[\"mean\"] = np.mean(X, axis=0) #moyenne par colonne\n",
    "        self.params_[\"std\"] = np.std(X, axis=0)\n",
    "\n",
    "    def transform(self, X):\n",
    "        return (X - self.params_[\"mean\"]) / self.params_[\"std\"]\n",
    "\n",
    "    def fit_transform(self, X):\n",
    "        return self.fit(X).transform(X)"
   ]
  },
  {
   "cell_type": "code",
   "execution_count": 10,
   "metadata": {},
   "outputs": [
    {
     "data": {
      "text/plain": [
       "array([[ 1.35106563,  1.35106563,  1.26012384],\n",
       "       [-0.31364024, -0.31364024, -0.07412493],\n",
       "       [-1.0374254 , -1.0374254 , -1.18599891]])"
      ]
     },
     "execution_count": 10,
     "metadata": {},
     "output_type": "execute_result"
    }
   ],
   "source": [
    "X = np.array([[77, 88, 99] , [31,42,63] , [11,22,33]])\n",
    "scaler = StandardScaler()\n",
    "scaler.fit(X)\n",
    "scaler.transform(X)"
   ]
  },
  {
   "cell_type": "code",
   "execution_count": 11,
   "metadata": {},
   "outputs": [
    {
     "name": "stdout",
     "output_type": "stream",
     "text": [
      "StandardScaler(copy=True, with_mean=True, with_std=True)\n",
      "[[ 1.35106563  1.35106563  1.26012384]\n",
      " [-0.31364024 -0.31364024 -0.07412493]\n",
      " [-1.0374254  -1.0374254  -1.18599891]]\n"
     ]
    }
   ],
   "source": [
    "from sklearn.preprocessing import StandardScaler\n",
    "scaler = StandardScaler()\n",
    "print(scaler.fit(X))\n",
    "print(scaler.transform(X))"
   ]
  }
 ],
 "metadata": {
  "kernelspec": {
   "display_name": "Python 3",
   "language": "python",
   "name": "python3"
  },
  "language_info": {
   "codemirror_mode": {
    "name": "ipython",
    "version": 3
   },
   "file_extension": ".py",
   "mimetype": "text/x-python",
   "name": "python",
   "nbconvert_exporter": "python",
   "pygments_lexer": "ipython3",
   "version": "3.7.4"
  }
 },
 "nbformat": 4,
 "nbformat_minor": 2
}
